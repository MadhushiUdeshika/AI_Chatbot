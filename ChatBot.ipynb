{
  "nbformat": 4,
  "nbformat_minor": 0,
  "metadata": {
    "colab": {
      "provenance": [],
      "authorship_tag": "ABX9TyMNppIHBWnWwpQuAyQ8FkFk",
      "include_colab_link": true
    },
    "kernelspec": {
      "name": "python3",
      "display_name": "Python 3"
    },
    "language_info": {
      "name": "python"
    }
  },
  "cells": [
    {
      "cell_type": "markdown",
      "metadata": {
        "id": "view-in-github",
        "colab_type": "text"
      },
      "source": [
        "<a href=\"https://colab.research.google.com/github/MadhushiUdeshika/AI_Chatbot/blob/main/ChatBot.ipynb\" target=\"_parent\"><img src=\"https://colab.research.google.com/assets/colab-badge.svg\" alt=\"Open In Colab\"/></a>"
      ]
    },
    {
      "cell_type": "code",
      "source": [
        "#Description: This is a program simulate a virtual therapist called 'Eliza'."
      ],
      "metadata": {
        "id": "LJxaP5IwQ8X6"
      },
      "execution_count": null,
      "outputs": []
    },
    {
      "cell_type": "code",
      "source": [
        "#Import the libraries\n",
        "import re\n",
        "import random"
      ],
      "metadata": {
        "id": "rJsqqjOOSH2t"
      },
      "execution_count": 9,
      "outputs": []
    },
    {
      "cell_type": "code",
      "source": [
        "#Create a list of pre-defined responses similar to Eliza's by using a dictionary also known as a key value pair.\n",
        "response = {\n",
        "    \"hello\":[\"Hello, how can I help you?\"],\n",
        "    \"i feel (.*)\":[\"Why do you feel {}?\",\"How long have you been feeling {}?\"],\n",
        "    \"i am (.*)\":[\"Why do you say you're {}?\",\"How long have you been feeling {}?\"],\n",
        "    \"i'm (.*)\":[\"Why are you {}?\", \"How long have you been {}?\"],\n",
        "    \"i (.*) you\":[\"Why do you {} me?\", \"What makes you think you {} me?\"],\n",
        "    \"i (.*) myself\":[\"Why do you {} yourself?\", \"What makes you think you {} yourself?\"],\n",
        "    \"(.*) sorry (.*)\":[\"There's no need to apologize.\", \"What are you apologizing for?\"],\n",
        "    \"(.*) friend (.*)\":[\"Tell me more about your friend.\", \"How do your friends make you feel?\"],\n",
        "    \"yes\":[\"You seem quite sure.\", \"Ok, but can you eleborate?\"],\n",
        "    \"no\":[\"Why not?\", \"Ok, but can you eleborate a bit?\"],\n",
        "    \" (.*) \":[\"Please tell me more.\", \"Let's change focus a bit... tell me about your family.\", \"Can you elaborate on that?\"],\n",
        "    \"\":[\"Why do you think that?\", \"Please tell me more.\", \"Let's change focus a bit... tell me about your family.\", \"Can you elaborate on that?\"]\n",
        "}"
      ],
      "metadata": {
        "id": "I2ZaEpkoTd1D"
      },
      "execution_count": 10,
      "outputs": []
    },
    {
      "cell_type": "code",
      "source": [
        "#Define a function to match the user's input to a pre-defined response.\n",
        "def match_response(input_text):\n",
        "  #Create a for loop to iterate over the items of the \"responsd\" dictionary.\n",
        "  for pattern, response_list in response.items():\n",
        "    matches = re.match(pattern, input_text.lower())\n",
        "    if matches:\n",
        "      chosen_response = random.choice(response_list)\n",
        "      return chosen_response.format(*matches.groups())\n",
        "\n",
        "  #There is no pattern match, so return\n",
        "  return \"I'm sorry I don't understand what you are saying.\""
      ],
      "metadata": {
        "id": "PtIP1t-5tuhj"
      },
      "execution_count": 11,
      "outputs": []
    },
    {
      "cell_type": "code",
      "source": [
        "#Create the main loop to start the chatbot.\n",
        "print(\"Welcome to the Eliza Psychotherapist ChatBot.\")\n",
        "while True:\n",
        "  user_input = input(\"You: \")\n",
        "  if user_input.lower() == \"bye\":\n",
        "    print(\"Eliza: Goodbye.\")\n",
        "    break\n",
        "  else:\n",
        "    print(\"Eliza: \"+match_response(user_input))"
      ],
      "metadata": {
        "id": "3kOFLUTDwQGO"
      },
      "execution_count": null,
      "outputs": []
    }
  ]
}